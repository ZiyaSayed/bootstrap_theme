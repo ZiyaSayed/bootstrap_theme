{
 "cells": [
  {
   "cell_type": "code",
   "execution_count": 1,
   "id": "795b3e2b",
   "metadata": {},
   "outputs": [],
   "source": [
    "import pandas as pd\n",
    "import numpy as np\n",
    "import matplotlib.pyplot as plt\n",
    "import seaborn as sns\n",
    "import tensorflow as ts\n",
    "import tensorflow.keras as keras\n",
    "from keras.utils import to_categorical\n",
    "from keras.utils.vis_utils import plot_model\n",
    "from tensorflow.keras.datasets import fashion_mnist\n",
    "from tensorflow.keras import models, layers\n",
    "from tensorflow.keras.preprocessing.image import ImageDataGenerator\n",
    "from keras.layers import Dense, Dropout, Flatten,Conv2D, MaxPooling2D,BatchNormalization\n",
    "from sklearn.metrics import confusion_matrix, classification_report\n"
   ]
  },
  {
   "cell_type": "code",
   "execution_count": 2,
   "id": "386b507f",
   "metadata": {},
   "outputs": [],
   "source": [
    "(X_train, y_train), (X_test, y_test) = fashion_mnist.load_data()\n"
   ]
  },
  {
   "cell_type": "code",
   "execution_count": 3,
   "id": "be0647a6",
   "metadata": {},
   "outputs": [],
   "source": [
    "class_names = ['T-shirt/top', 'Trouser', 'Pullover', 'Dress', 'Coat',\n",
    " 'Sandal', 'Shirt', 'Sneaker', 'Bag', 'Ankle boot']\n",
    "X_train = X_train.reshape((X_train.shape[0], 28, 28, 1))\n",
    "X_test = X_test.reshape((X_test.shape[0], 28, 28, 1))\n",
    "X_train = X_train.astype('float32') / 255\n",
    "X_test = X_test.astype('float32') / 255\n",
    "\n",
    "y_train = to_categorical(y_train, num_classes=10)\n",
    "y_test = to_categorical(y_test, num_classes=10)\n"
   ]
  },
  {
   "cell_type": "code",
   "execution_count": 4,
   "id": "764bff15",
   "metadata": {},
   "outputs": [
    {
     "name": "stdout",
     "output_type": "stream",
     "text": [
      "You must install pydot (`pip install pydot`) and install graphviz (see instructions at https://graphviz.gitlab.io/download/) for plot_model to work.\n"
     ]
    }
   ],
   "source": [
    "model = keras.Sequential()\n",
    "model.add(Conv2D(32, (3, 3), activation='relu',\n",
    "kernel_initializer='he_uniform', input_shape=(28, 28, 1)))\n",
    "model.add(MaxPooling2D((2, 2)))\n",
    "model.add(Flatten())\n",
    "model.add(Dense(100, activation='relu',\n",
    "kernel_initializer='he_uniform'))\n",
    "model.add(Dense(10, activation='softmax'))\n",
    "model.compile(optimizer='adam', loss='categorical_crossentropy',\n",
    "metrics=['accuracy'])\n",
    "plot_model(model, to_file='fmnistcnn.png',show_shapes=True,\n",
    "show_layer_names=True)\n"
   ]
  },
  {
   "cell_type": "code",
   "execution_count": 5,
   "id": "07cceecb",
   "metadata": {},
   "outputs": [
    {
     "name": "stdout",
     "output_type": "stream",
     "text": [
      "Epoch 1/15\n",
      "1875/1875 [==============================] - 24s 12ms/step - loss: 0.3830 - accuracy: 0.8642\n",
      "Epoch 2/15\n",
      "1875/1875 [==============================] - 22s 12ms/step - loss: 0.2560 - accuracy: 0.9076\n",
      "Epoch 3/15\n",
      "1875/1875 [==============================] - 22s 12ms/step - loss: 0.2116 - accuracy: 0.9223\n",
      "Epoch 4/15\n",
      "1875/1875 [==============================] - 22s 11ms/step - loss: 0.1803 - accuracy: 0.9333\n",
      "Epoch 5/15\n",
      "1875/1875 [==============================] - 21s 11ms/step - loss: 0.1567 - accuracy: 0.9418\n",
      "Epoch 6/15\n",
      "1875/1875 [==============================] - 21s 11ms/step - loss: 0.1341 - accuracy: 0.9502\n",
      "Epoch 7/15\n",
      "1875/1875 [==============================] - 21s 11ms/step - loss: 0.1129 - accuracy: 0.9583\n",
      "Epoch 8/15\n",
      "1875/1875 [==============================] - 21s 11ms/step - loss: 0.0974 - accuracy: 0.9640\n",
      "Epoch 9/15\n",
      "1875/1875 [==============================] - 21s 11ms/step - loss: 0.0839 - accuracy: 0.9689\n",
      "Epoch 10/15\n",
      "1875/1875 [==============================] - 21s 11ms/step - loss: 0.0703 - accuracy: 0.9745\n",
      "Epoch 11/15\n",
      "1875/1875 [==============================] - 21s 11ms/step - loss: 0.0636 - accuracy: 0.9766\n",
      "Epoch 12/15\n",
      "1875/1875 [==============================] - 21s 11ms/step - loss: 0.0527 - accuracy: 0.9805\n",
      "Epoch 13/15\n",
      "1875/1875 [==============================] - 21s 11ms/step - loss: 0.0493 - accuracy: 0.9825\n",
      "Epoch 14/15\n",
      "1875/1875 [==============================] - 21s 11ms/step - loss: 0.0405 - accuracy: 0.9854\n",
      "Epoch 15/15\n",
      "1875/1875 [==============================] - 22s 12ms/step - loss: 0.0362 - accuracy: 0.9870\n"
     ]
    }
   ],
   "source": [
    "history = model.fit(X_train, y_train, epochs=15, batch_size=32)\n"
   ]
  },
  {
   "cell_type": "code",
   "execution_count": 6,
   "id": "93b5ea65",
   "metadata": {},
   "outputs": [
    {
     "name": "stdout",
     "output_type": "stream",
     "text": [
      "1875/1875 [==============================] - 7s 3ms/step - loss: 0.0317 - accuracy: 0.9890\n",
      "313/313 [==============================] - 1s 3ms/step - loss: 0.4581 - accuracy: 0.9109\n"
     ]
    }
   ],
   "source": [
    "train_loss, train_acc = model.evaluate(X_train, y_train)\n",
    "test_loss, test_acc = model.evaluate(X_test, y_test)"
   ]
  },
  {
   "cell_type": "code",
   "execution_count": 7,
   "id": "d4e68255",
   "metadata": {},
   "outputs": [
    {
     "name": "stdout",
     "output_type": "stream",
     "text": [
      "Train accuracy: 0.98902\n",
      "Train loss: 0\n",
      "Test accuracy: 0.9109\n",
      "Test loss: 0.458\n"
     ]
    }
   ],
   "source": [
    "print(\"Train accuracy:\", round(train_acc, 5))\n",
    "print(\"Train loss:\", round(train_loss, ))\n",
    "print(\"Test accuracy:\", round(test_acc, 5))\n",
    "print(\"Test loss:\", round(test_loss, 3))"
   ]
  },
  {
   "cell_type": "code",
   "execution_count": 8,
   "id": "b67092fd",
   "metadata": {},
   "outputs": [
    {
     "data": {
      "image/png": "[encoded data removed]",
      "text/plain": [
       "<Figure size 640x480 with 1 Axes>"
      ]
     },
     "metadata": {},
     "output_type": "display_data"
    }
   ],
   "source": [
    "plt.plot(history.history[\"accuracy\"])\n",
    "plt.title(\"Model Accuracy\")\n",
    "plt.xlabel('Epochs')\n",
    "plt.ylabel('Accuracy')\n",
    "plt.legend(['Train', 'Test'])\n",
    "plt.show()"
   ]
  },
  {
   "cell_type": "code",
   "execution_count": null,
   "id": "bf2880a7",
   "metadata": {},
   "outputs": [],
   "source": []
  }
 ],
 "metadata": {
  "kernelspec": {
   "display_name": "Python 3 (ipykernel)",
   "language": "python",
   "name": "python3"
  },
  "language_info": {
   "codemirror_mode": {
    "name": "ipython",
    "version": 3
   },
   "file_extension": ".py",
   "mimetype": "text/x-python",
   "name": "python",
   "nbconvert_exporter": "python",
   "pygments_lexer": "ipython3",
   "version": "3.10.9"
  }
 },
 "nbformat": 4,
 "nbformat_minor": 5
}
