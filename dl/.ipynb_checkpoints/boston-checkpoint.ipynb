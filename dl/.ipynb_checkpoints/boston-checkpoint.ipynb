{
 "cells": [
  {
   "cell_type": "code",
   "execution_count": 1,
   "id": "33f0d0b2",
   "metadata": {},
   "outputs": [],
   "source": [
    "import numpy as np\n",
    "import pandas as pd\n",
    "import seaborn as sns\n",
    "import matplotlib.pyplot as plt\n",
    "from sklearn.datasets import load_boston\n",
    "from sklearn.model_selection import train_test_split\n",
    "from sklearn.preprocessing import StandardScaler\n",
    "import tensorflow as tf"
   ]
  },
  {
   "cell_type": "code",
   "execution_count": 2,
   "id": "0fbe2047",
   "metadata": {},
   "outputs": [
    {
     "name": "stderr",
     "output_type": "stream",
     "text": [
      "C:\\Users\\ziyas\\AppData\\Roaming\\Python\\Python310\\site-packages\\sklearn\\utils\\deprecation.py:87: FutureWarning: Function load_boston is deprecated; `load_boston` is deprecated in 1.0 and will be removed in 1.2.\n",
      "\n",
      "    The Boston housing prices dataset has an ethical problem. You can refer to\n",
      "    the documentation of this function for further details.\n",
      "\n",
      "    The scikit-learn maintainers therefore strongly discourage the use of this\n",
      "    dataset unless the purpose of the code is to study and educate about\n",
      "    ethical issues in data science and machine learning.\n",
      "\n",
      "    In this special case, you can fetch the dataset from the original\n",
      "    source::\n",
      "\n",
      "        import pandas as pd\n",
      "        import numpy as np\n",
      "\n",
      "        data_url = \"http://lib.stat.cmu.edu/datasets/boston\"\n",
      "        raw_df = pd.read_csv(data_url, sep=\"\\s+\", skiprows=22, header=None)\n",
      "        data = np.hstack([raw_df.values[::2, :], raw_df.values[1::2, :2]])\n",
      "        target = raw_df.values[1::2, 2]\n",
      "\n",
      "    Alternative datasets include the California housing dataset (i.e.\n",
      "    :func:`~sklearn.datasets.fetch_california_housing`) and the Ames housing\n",
      "    dataset. You can load the datasets as follows::\n",
      "\n",
      "        from sklearn.datasets import fetch_california_housing\n",
      "        housing = fetch_california_housing()\n",
      "\n",
      "    for the California housing dataset and::\n",
      "\n",
      "        from sklearn.datasets import fetch_openml\n",
      "        housing = fetch_openml(name=\"house_prices\", as_frame=True)\n",
      "\n",
      "    for the Ames housing dataset.\n",
      "  warnings.warn(msg, category=FutureWarning)\n"
     ]
    }
   ],
   "source": [
    "# Load the Boston Housing dataset\n",
    "boston = load_boston()\n",
    "data = pd.DataFrame(boston.data, columns=boston.feature_names)\n",
    "data['PRICE'] = boston.target\n",
    "# Split the data into training and testing sets\n",
    "X_train, X_test, y_train, y_test = train_test_split(data.iloc[:, :-1],\n",
    "data.iloc[:, -1], test_size=0.2, random_state=42)\n"
   ]
  },
  {
   "cell_type": "code",
   "execution_count": 3,
   "id": "b4cc2944",
   "metadata": {},
   "outputs": [],
   "source": [
    "# Scale the data\n",
    "scaler = StandardScaler()\n",
    "X_train = scaler.fit_transform(X_train)\n",
    "X_test = scaler.transform(X_test)\n",
    "# Define the model\n",
    "model = tf.keras.models.Sequential([\n",
    " tf.keras.layers.Dense(64, activation='relu',\n",
    "input_shape=(X_train.shape[1],)),\n",
    " tf.keras.layers.Dense(32, activation='relu'),\n",
    " tf.keras.layers.Dense(1)\n",
    "])\n"
   ]
  },
  {
   "cell_type": "code",
   "execution_count": 4,
   "id": "80c3bcb9",
   "metadata": {},
   "outputs": [
    {
     "name": "stdout",
     "output_type": "stream",
     "text": [
      "Epoch 1/100\n",
      "11/11 [==============================] - 2s 37ms/step - loss: 601.9644 - val_loss: 526.6940\n",
      "Epoch 2/100\n",
      "11/11 [==============================] - 0s 9ms/step - loss: 569.4384 - val_loss: 495.3546\n",
      "Epoch 3/100\n",
      "11/11 [==============================] - 0s 9ms/step - loss: 533.9438 - val_loss: 459.7048\n",
      "Epoch 4/100\n",
      "11/11 [==============================] - 0s 7ms/step - loss: 492.2336 - val_loss: 416.6465\n",
      "Epoch 5/100\n",
      "11/11 [==============================] - 0s 7ms/step - loss: 442.1425 - val_loss: 364.8586\n",
      "Epoch 6/100\n",
      "11/11 [==============================] - 0s 7ms/step - loss: 380.8001 - val_loss: 304.5707\n",
      "Epoch 7/100\n",
      "11/11 [==============================] - 0s 6ms/step - loss: 311.3750 - val_loss: 239.7458\n",
      "Epoch 8/100\n",
      "11/11 [==============================] - 0s 6ms/step - loss: 242.0175 - val_loss: 177.8950\n",
      "Epoch 9/100\n",
      "11/11 [==============================] - 0s 6ms/step - loss: 177.8140 - val_loss: 125.5401\n",
      "Epoch 10/100\n",
      "11/11 [==============================] - 0s 6ms/step - loss: 126.5681 - val_loss: 86.9033\n",
      "Epoch 11/100\n",
      "11/11 [==============================] - 0s 7ms/step - loss: 93.9839 - val_loss: 62.8694\n",
      "Epoch 12/100\n",
      "11/11 [==============================] - 0s 9ms/step - loss: 71.8778 - val_loss: 49.9723\n",
      "Epoch 13/100\n",
      "11/11 [==============================] - 0s 7ms/step - loss: 57.8739 - val_loss: 40.8205\n",
      "Epoch 14/100\n",
      "11/11 [==============================] - 0s 7ms/step - loss: 46.7817 - val_loss: 34.8359\n",
      "Epoch 15/100\n",
      "11/11 [==============================] - 0s 6ms/step - loss: 38.0880 - val_loss: 31.4001\n",
      "Epoch 16/100\n",
      "11/11 [==============================] - 0s 6ms/step - loss: 32.3696 - val_loss: 29.4146\n",
      "Epoch 17/100\n",
      "11/11 [==============================] - 0s 6ms/step - loss: 28.6828 - val_loss: 27.8301\n",
      "Epoch 18/100\n",
      "11/11 [==============================] - 0s 8ms/step - loss: 25.7606 - val_loss: 25.9502\n",
      "Epoch 19/100\n",
      "11/11 [==============================] - 0s 8ms/step - loss: 23.7389 - val_loss: 25.5924\n",
      "Epoch 20/100\n",
      "11/11 [==============================] - 0s 7ms/step - loss: 22.6120 - val_loss: 24.8812\n",
      "Epoch 21/100\n",
      "11/11 [==============================] - 0s 8ms/step - loss: 21.5184 - val_loss: 24.3600\n",
      "Epoch 22/100\n",
      "11/11 [==============================] - 0s 8ms/step - loss: 20.7894 - val_loss: 23.8577\n",
      "Epoch 23/100\n",
      "11/11 [==============================] - 0s 8ms/step - loss: 20.0191 - val_loss: 23.5661\n",
      "Epoch 24/100\n",
      "11/11 [==============================] - 0s 8ms/step - loss: 19.2963 - val_loss: 23.2349\n",
      "Epoch 25/100\n",
      "11/11 [==============================] - 0s 10ms/step - loss: 18.7925 - val_loss: 22.6956\n",
      "Epoch 26/100\n",
      "11/11 [==============================] - 0s 8ms/step - loss: 18.1102 - val_loss: 22.3570\n",
      "Epoch 27/100\n",
      "11/11 [==============================] - 0s 7ms/step - loss: 17.6423 - val_loss: 21.8890\n",
      "Epoch 28/100\n",
      "11/11 [==============================] - 0s 8ms/step - loss: 17.1126 - val_loss: 21.7044\n",
      "Epoch 29/100\n",
      "11/11 [==============================] - 0s 7ms/step - loss: 16.7104 - val_loss: 21.4901\n",
      "Epoch 30/100\n",
      "11/11 [==============================] - 0s 7ms/step - loss: 16.3694 - val_loss: 21.2870\n",
      "Epoch 31/100\n",
      "11/11 [==============================] - 0s 8ms/step - loss: 15.9252 - val_loss: 20.7583\n",
      "Epoch 32/100\n",
      "11/11 [==============================] - 0s 7ms/step - loss: 15.5950 - val_loss: 20.3295\n",
      "Epoch 33/100\n",
      "11/11 [==============================] - 0s 8ms/step - loss: 15.2810 - val_loss: 20.3612\n",
      "Epoch 34/100\n",
      "11/11 [==============================] - 0s 8ms/step - loss: 14.9280 - val_loss: 20.0523\n",
      "Epoch 35/100\n",
      "11/11 [==============================] - 0s 8ms/step - loss: 14.6856 - val_loss: 19.7164\n",
      "Epoch 36/100\n",
      "11/11 [==============================] - 0s 7ms/step - loss: 14.4568 - val_loss: 19.7602\n",
      "Epoch 37/100\n",
      "11/11 [==============================] - 0s 9ms/step - loss: 14.1725 - val_loss: 19.4065\n",
      "Epoch 38/100\n",
      "11/11 [==============================] - 0s 8ms/step - loss: 13.9082 - val_loss: 18.9871\n",
      "Epoch 39/100\n",
      "11/11 [==============================] - 0s 8ms/step - loss: 13.6996 - val_loss: 18.6641\n",
      "Epoch 40/100\n",
      "11/11 [==============================] - 0s 8ms/step - loss: 13.5367 - val_loss: 18.7778\n",
      "Epoch 41/100\n",
      "11/11 [==============================] - 0s 8ms/step - loss: 13.2644 - val_loss: 18.1325\n",
      "Epoch 42/100\n",
      "11/11 [==============================] - 0s 8ms/step - loss: 13.0578 - val_loss: 17.7018\n",
      "Epoch 43/100\n",
      "11/11 [==============================] - 0s 6ms/step - loss: 12.9094 - val_loss: 17.7280\n",
      "Epoch 44/100\n",
      "11/11 [==============================] - 0s 7ms/step - loss: 12.6799 - val_loss: 17.2521\n",
      "Epoch 45/100\n",
      "11/11 [==============================] - 0s 8ms/step - loss: 12.6195 - val_loss: 17.3999\n",
      "Epoch 46/100\n",
      "11/11 [==============================] - 0s 8ms/step - loss: 12.3592 - val_loss: 17.4296\n",
      "Epoch 47/100\n",
      "11/11 [==============================] - 0s 9ms/step - loss: 12.2920 - val_loss: 17.4034\n",
      "Epoch 48/100\n",
      "11/11 [==============================] - 0s 7ms/step - loss: 12.1355 - val_loss: 16.4835\n",
      "Epoch 49/100\n",
      "11/11 [==============================] - 0s 7ms/step - loss: 12.0739 - val_loss: 16.3721\n",
      "Epoch 50/100\n",
      "11/11 [==============================] - 0s 8ms/step - loss: 11.9640 - val_loss: 16.6551\n",
      "Epoch 51/100\n",
      "11/11 [==============================] - 0s 9ms/step - loss: 12.0540 - val_loss: 16.7475\n",
      "Epoch 52/100\n",
      "11/11 [==============================] - 0s 7ms/step - loss: 11.6916 - val_loss: 16.1118\n",
      "Epoch 53/100\n",
      "11/11 [==============================] - 0s 8ms/step - loss: 11.7102 - val_loss: 16.2246\n",
      "Epoch 54/100\n",
      "11/11 [==============================] - 0s 8ms/step - loss: 11.6490 - val_loss: 16.9833\n",
      "Epoch 55/100\n",
      "11/11 [==============================] - 0s 7ms/step - loss: 11.6386 - val_loss: 16.0299\n",
      "Epoch 56/100\n",
      "11/11 [==============================] - 0s 6ms/step - loss: 11.3903 - val_loss: 15.6526\n",
      "Epoch 57/100\n",
      "11/11 [==============================] - 0s 6ms/step - loss: 11.1302 - val_loss: 15.7199\n",
      "Epoch 58/100\n",
      "11/11 [==============================] - 0s 7ms/step - loss: 11.0369 - val_loss: 15.8884\n",
      "Epoch 59/100\n",
      "11/11 [==============================] - 0s 8ms/step - loss: 10.9378 - val_loss: 15.6393\n",
      "Epoch 60/100\n",
      "11/11 [==============================] - 0s 8ms/step - loss: 10.7841 - val_loss: 15.6602\n",
      "Epoch 61/100\n",
      "11/11 [==============================] - 0s 8ms/step - loss: 10.8010 - val_loss: 15.7739\n",
      "Epoch 62/100\n",
      "11/11 [==============================] - 0s 6ms/step - loss: 10.9446 - val_loss: 15.4195\n",
      "Epoch 63/100\n",
      "11/11 [==============================] - 0s 6ms/step - loss: 10.7167 - val_loss: 15.3528\n",
      "Epoch 64/100\n",
      "11/11 [==============================] - 0s 8ms/step - loss: 10.3746 - val_loss: 15.4577\n",
      "Epoch 65/100\n",
      "11/11 [==============================] - 0s 9ms/step - loss: 10.2842 - val_loss: 15.1683\n",
      "Epoch 66/100\n",
      "11/11 [==============================] - 0s 9ms/step - loss: 10.1935 - val_loss: 14.9097\n",
      "Epoch 67/100\n",
      "11/11 [==============================] - 0s 8ms/step - loss: 10.1072 - val_loss: 14.9732\n",
      "Epoch 68/100\n",
      "11/11 [==============================] - 0s 6ms/step - loss: 10.0248 - val_loss: 15.1871\n",
      "Epoch 69/100\n",
      "11/11 [==============================] - 0s 7ms/step - loss: 9.9695 - val_loss: 15.0363\n",
      "Epoch 70/100\n",
      "11/11 [==============================] - 0s 9ms/step - loss: 9.8909 - val_loss: 14.8528\n",
      "Epoch 71/100\n",
      "11/11 [==============================] - 0s 8ms/step - loss: 9.9114 - val_loss: 14.5069\n",
      "Epoch 72/100\n",
      "11/11 [==============================] - 0s 8ms/step - loss: 9.8496 - val_loss: 14.8410\n",
      "Epoch 73/100\n",
      "11/11 [==============================] - 0s 6ms/step - loss: 9.6786 - val_loss: 14.9560\n",
      "Epoch 74/100\n",
      "11/11 [==============================] - 0s 6ms/step - loss: 9.6377 - val_loss: 15.0464\n",
      "Epoch 75/100\n",
      "11/11 [==============================] - 0s 6ms/step - loss: 9.5459 - val_loss: 15.2167\n",
      "Epoch 76/100\n",
      "11/11 [==============================] - 0s 6ms/step - loss: 9.5318 - val_loss: 14.6977\n",
      "Epoch 77/100\n",
      "11/11 [==============================] - 0s 6ms/step - loss: 9.4168 - val_loss: 14.7414\n",
      "Epoch 78/100\n",
      "11/11 [==============================] - 0s 7ms/step - loss: 9.3577 - val_loss: 14.5162\n",
      "Epoch 79/100\n",
      "11/11 [==============================] - 0s 6ms/step - loss: 9.1989 - val_loss: 14.5758\n",
      "Epoch 80/100\n",
      "11/11 [==============================] - 0s 6ms/step - loss: 9.2202 - val_loss: 14.4828\n",
      "Epoch 81/100\n"
     ]
    },
    {
     "name": "stdout",
     "output_type": "stream",
     "text": [
      "11/11 [==============================] - 0s 6ms/step - loss: 9.0722 - val_loss: 14.7830\n",
      "Epoch 82/100\n",
      "11/11 [==============================] - 0s 6ms/step - loss: 9.0737 - val_loss: 14.5330\n",
      "Epoch 83/100\n",
      "11/11 [==============================] - 0s 6ms/step - loss: 8.9849 - val_loss: 14.6319\n",
      "Epoch 84/100\n",
      "11/11 [==============================] - 0s 6ms/step - loss: 8.9562 - val_loss: 14.1016\n",
      "Epoch 85/100\n",
      "11/11 [==============================] - 0s 6ms/step - loss: 8.9150 - val_loss: 14.5022\n",
      "Epoch 86/100\n",
      "11/11 [==============================] - 0s 6ms/step - loss: 8.8480 - val_loss: 14.5068\n",
      "Epoch 87/100\n",
      "11/11 [==============================] - 0s 6ms/step - loss: 8.7663 - val_loss: 15.0022\n",
      "Epoch 88/100\n",
      "11/11 [==============================] - 0s 6ms/step - loss: 8.6814 - val_loss: 14.5873\n",
      "Epoch 89/100\n",
      "11/11 [==============================] - 0s 6ms/step - loss: 8.7481 - val_loss: 13.9830\n",
      "Epoch 90/100\n",
      "11/11 [==============================] - 0s 8ms/step - loss: 8.6925 - val_loss: 14.2197\n",
      "Epoch 91/100\n",
      "11/11 [==============================] - 0s 8ms/step - loss: 8.5003 - val_loss: 14.2808\n",
      "Epoch 92/100\n",
      "11/11 [==============================] - 0s 9ms/step - loss: 8.4669 - val_loss: 14.3042\n",
      "Epoch 93/100\n",
      "11/11 [==============================] - 0s 9ms/step - loss: 8.4335 - val_loss: 14.0849\n",
      "Epoch 94/100\n",
      "11/11 [==============================] - 0s 8ms/step - loss: 8.3605 - val_loss: 14.4286\n",
      "Epoch 95/100\n",
      "11/11 [==============================] - 0s 8ms/step - loss: 8.4188 - val_loss: 13.8655\n",
      "Epoch 96/100\n",
      "11/11 [==============================] - 0s 6ms/step - loss: 8.1628 - val_loss: 13.8826\n",
      "Epoch 97/100\n",
      "11/11 [==============================] - 0s 6ms/step - loss: 8.1704 - val_loss: 13.5131\n",
      "Epoch 98/100\n",
      "11/11 [==============================] - 0s 6ms/step - loss: 8.0468 - val_loss: 13.7877\n",
      "Epoch 99/100\n",
      "11/11 [==============================] - 0s 6ms/step - loss: 8.2601 - val_loss: 14.6235\n",
      "Epoch 100/100\n",
      "11/11 [==============================] - 0s 6ms/step - loss: 8.1224 - val_loss: 14.0311\n"
     ]
    }
   ],
   "source": [
    "# Compile the model\n",
    "model.compile(optimizer='adam', loss='mse')\n",
    "# Train the model\n",
    "history = model.fit(X_train, y_train, epochs=100, batch_size=32,\n",
    "validation_split=0.2)"
   ]
  },
  {
   "cell_type": "code",
   "execution_count": 5,
   "id": "82cd4a15",
   "metadata": {},
   "outputs": [
    {
     "name": "stdout",
     "output_type": "stream",
     "text": [
      "4/4 [==============================] - 0s 4ms/step - loss: 12.2114\n"
     ]
    },
    {
     "data": {
      "text/plain": [
       "12.21142292022705"
      ]
     },
     "execution_count": 5,
     "metadata": {},
     "output_type": "execute_result"
    }
   ],
   "source": [
    "model.evaluate(X_test, y_test)\n"
   ]
  },
  {
   "cell_type": "code",
   "execution_count": 6,
   "id": "940689ac",
   "metadata": {},
   "outputs": [
    {
     "data": {
      "image/png": "[encoded data removed]",
      "text/plain": [
       "<Figure size 640x480 with 1 Axes>"
      ]
     },
     "metadata": {},
     "output_type": "display_data"
    }
   ],
   "source": [
    "# Visualize the training history\n",
    "loss = history.history['loss']\n",
    "val_loss = history.history['val_loss']\n",
    "epochs = range(1, len(loss) + 1)\n",
    "plt.plot(epochs, loss, 'bo', label='Training loss')\n",
    "plt.plot(epochs, val_loss, 'b', label='Validation loss')\n",
    "plt.title('Training and validation loss')\n",
    "plt.xlabel('Epochs')\n",
    "plt.ylabel('Loss')\n",
    "plt.legend()\n",
    "plt.show()"
   ]
  },
  {
   "cell_type": "code",
   "execution_count": 7,
   "id": "c360d225",
   "metadata": {},
   "outputs": [
    {
     "name": "stdout",
     "output_type": "stream",
     "text": [
      "4/4 [==============================] - 0s 3ms/step\n"
     ]
    },
    {
     "data": {
      "image/png": "[encoded data removed]",
      "text/plain": [
       "<Figure size 640x480 with 1 Axes>"
      ]
     },
     "metadata": {},
     "output_type": "display_data"
    }
   ],
   "source": [
    "# Visualize the linear regression graph\n",
    "y_pred = model.predict(X_test)\n",
    "plt.scatter(y_test, y_pred)\n",
    "plt.plot([0, 50], [0, 50], '--k')\n",
    "plt.axis('tight')\n",
    "plt.xlabel('True price ($1000s)')\n",
    "plt.ylabel('Predicted price ($1000s)')\n",
    "plt.show()"
   ]
  },
  {
   "cell_type": "code",
   "execution_count": null,
   "id": "c791f4df",
   "metadata": {},
   "outputs": [],
   "source": []
  }
 ],
 "metadata": {
  "kernelspec": {
   "display_name": "Python 3 (ipykernel)",
   "language": "python",
   "name": "python3"
  },
  "language_info": {
   "codemirror_mode": {
    "name": "ipython",
    "version": 3
   },
   "file_extension": ".py",
   "mimetype": "text/x-python",
   "name": "python",
   "nbconvert_exporter": "python",
   "pygments_lexer": "ipython3",
   "version": "3.10.9"
  }
 },
 "nbformat": 4,
 "nbformat_minor": 5
}
