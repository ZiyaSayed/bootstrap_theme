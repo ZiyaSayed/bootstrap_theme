{
  "nbformat": 4,
  "nbformat_minor": 0,
  "metadata": {
    "colab": {
      "provenance": [],
      "gpuType": "T4"
    },
    "kernelspec": {
      "name": "python3",
      "display_name": "Python 3"
    },
    "language_info": {
      "name": "python"
    },
    "accelerator": "GPU",
    "gpuClass": "standard"
  },
  "cells": [
    {
      "cell_type": "code",
      "execution_count": null,
      "metadata": {
        "colab": {
          "base_uri": "https://localhost:8080/"
        },
        "id": "i-p9adX1MQs-",
        "outputId": "cda1fca6-b6b5-4e65-a3e0-b449d89b70b0"
      },
      "outputs": [
        {
          "output_type": "stream",
          "name": "stdout",
          "text": [
            "nvcc: NVIDIA (R) Cuda compiler driver\n",
            "Copyright (c) 2005-2022 NVIDIA Corporation\n",
            "Built on Wed_Sep_21_10:33:58_PDT_2022\n",
            "Cuda compilation tools, release 11.8, V11.8.89\n",
            "Build cuda_11.8.r11.8/compiler.31833905_0\n",
            "Looking in indexes: https://pypi.org/simple, https://us-python.pkg.dev/colab-wheels/public/simple/\n",
            "Collecting git+https://github.com/andreinechaev/nvcc4jupyter.git\n",
            "  Cloning https://github.com/andreinechaev/nvcc4jupyter.git to /tmp/pip-req-build-41w7367g\n",
            "  Running command git clone --filter=blob:none --quiet https://github.com/andreinechaev/nvcc4jupyter.git /tmp/pip-req-build-41w7367g\n",
            "  Resolved https://github.com/andreinechaev/nvcc4jupyter.git to commit aac710a35f52bb78ab34d2e52517237941399eff\n",
            "  Preparing metadata (setup.py) ... \u001b[?25l\u001b[?25hdone\n",
            "Building wheels for collected packages: NVCCPlugin\n",
            "  Building wheel for NVCCPlugin (setup.py) ... \u001b[?25l\u001b[?25hdone\n",
            "  Created wheel for NVCCPlugin: filename=NVCCPlugin-0.0.2-py3-none-any.whl size=4287 sha256=981708380a832731f9f6257bc2131158e03061dcf2479e5b31adfb84e479bbf2\n",
            "  Stored in directory: /tmp/pip-ephem-wheel-cache-6kw8s99w/wheels/a8/b9/18/23f8ef71ceb0f63297dd1903aedd067e6243a68ea756d6feea\n",
            "Successfully built NVCCPlugin\n",
            "Installing collected packages: NVCCPlugin\n",
            "Successfully installed NVCCPlugin-0.0.2\n",
            "created output directory at /content/src\n",
            "Out bin /content/result.out\n"
          ]
        }
      ],
      "source": [
        "!nvcc --version\n",
        "!pip install git+https://github.com/andreinechaev/nvcc4jupyter.git\n",
        "%load_ext nvcc_plugin\n"
      ]
    },
    {
      "cell_type": "code",
      "source": [
        "%%cu\n",
        "\n",
        "#include <stdio.h>\n",
        "\n",
        "#define N 3 // Size of the square matrices\n",
        "\n",
        "// CUDA kernel for matrix multiplication\n",
        "__global__ void matrixMul(int* a, int* b, int* c)\n",
        "{\n",
        "    int row = blockIdx.y * blockDim.y + threadIdx.y;\n",
        "    int col = blockIdx.x * blockDim.x + threadIdx.x;\n",
        "\n",
        "    if (row < N && col < N) {\n",
        "        int value = 0;\n",
        "        for (int i = 0; i < N; i++) {\n",
        "            value += a[row * N + i] * b[i * N + col];\n",
        "        }\n",
        "        c[row * N + col] = value;\n",
        "    }\n",
        "}\n",
        "\n",
        "// Function to print a matrix\n",
        "void printMatrix(int* matrix)\n",
        "{\n",
        "    for (int i = 0; i < N; i++) {\n",
        "        for (int j = 0; j < N; j++) {\n",
        "            printf(\"%d\\t\", matrix[i * N + j]);\n",
        "        }\n",
        "        printf(\"\\n\");\n",
        "    }\n",
        "}\n",
        "\n",
        "int main()\n",
        "{\n",
        "    int a[N][N] = { {1, 2, 3}, {4, 5, 6}, {7, 8, 9} };\n",
        "    int b[N][N] = { {9, 8, 7}, {6, 5, 4}, {3, 2, 1} };\n",
        "    int c[N][N] = { 0 };\n",
        "\n",
        "    int* dev_a, * dev_b, * dev_c;\n",
        "\n",
        "    // Allocate memory on the GPU\n",
        "    cudaMalloc((void**)&dev_a, N * N * sizeof(int));\n",
        "    cudaMalloc((void**)&dev_b, N * N * sizeof(int));\n",
        "    cudaMalloc((void**)&dev_c, N * N * sizeof(int));\n",
        "\n",
        "    // Copy input matrices from host to device\n",
        "    cudaMemcpy(dev_a, a, N * N * sizeof(int), cudaMemcpyHostToDevice);\n",
        "    cudaMemcpy(dev_b, b, N * N * sizeof(int), cudaMemcpyHostToDevice);\n",
        "\n",
        "    // Define grid and block dimensions\n",
        "    dim3 blockDim(2, 2);\n",
        "    dim3 gridDim((N + blockDim.x - 1) / blockDim.x, (N + blockDim.y - 1) / blockDim.y);\n",
        "\n",
        "    // Launch kernel\n",
        "    matrixMul<<<gridDim, blockDim>>>(dev_a, dev_b, dev_c);\n",
        "\n",
        "    // Copy result matrix from device to host\n",
        "    cudaMemcpy(c, dev_c, N * N * sizeof(int), cudaMemcpyDeviceToHost);\n",
        "\n",
        "    // Print the result matrix\n",
        "    printf(\"Result Matrix:\\n\");\n",
        "    printMatrix((int*)c);\n",
        "\n",
        "    // Free device memory\n",
        "    cudaFree(dev_a);\n",
        "    cudaFree(dev_b);\n",
        "    cudaFree(dev_c);\n",
        "\n",
        "    return 0;\n",
        "}\n"
      ],
      "metadata": {
        "colab": {
          "base_uri": "https://localhost:8080/"
        },
        "id": "D8v0y9_hMv9z",
        "outputId": "7c5d0eb5-61be-4cde-8168-894b903dce4d"
      },
      "execution_count": null,
      "outputs": [
        {
          "output_type": "stream",
          "name": "stdout",
          "text": [
            "Result Matrix:\n",
            "30\t24\t18\t\n",
            "84\t69\t54\t\n",
            "138\t114\t90\t\n",
            "\n"
          ]
        }
      ]
    },
    {
      "cell_type": "code",
      "source": [],
      "metadata": {
        "id": "1JLAqrjzMnxX"
      },
      "execution_count": null,
      "outputs": []
    }
  ]
}